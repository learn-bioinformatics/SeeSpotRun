{
 "cells": [
  {
   "cell_type": "code",
   "execution_count": 1,
   "metadata": {},
   "outputs": [
    {
     "data": {
      "text/plain": [
       "'\\nShow looping video and maximum intensity projection side by side\\nChange frame start (fst) and frame end (fen) values to observe the effect of trimming\\n'"
      ]
     },
     "execution_count": 1,
     "metadata": {},
     "output_type": "execute_result"
    }
   ],
   "source": [
    "\"\"\"\n",
    "Show looping video and maximum intensity projection side by side\n",
    "Change frame start (fst) and frame end (fen) values to observe the effect of trimming\n",
    "\"\"\""
   ]
  },
  {
   "cell_type": "code",
   "execution_count": 2,
   "metadata": {},
   "outputs": [],
   "source": [
    "import numpy as np\n",
    "import cv2\n",
    "font = cv2.FONT_HERSHEY_SIMPLEX\n",
    "from matplotlib import pyplot as plt"
   ]
  },
  {
   "cell_type": "code",
   "execution_count": 3,
   "metadata": {},
   "outputs": [],
   "source": [
    "cap = cv2.VideoCapture('../samples/URA3WT6_t3.avi')\n",
    "fps = cap.get(cv2.CAP_PROP_FPS)\n",
    "delay = int((1/fps)*1000)"
   ]
  },
  {
   "cell_type": "code",
   "execution_count": 4,
   "metadata": {},
   "outputs": [
    {
     "data": {
      "text/plain": [
       "range(0, 49)"
      ]
     },
     "execution_count": 4,
     "metadata": {},
     "output_type": "execute_result"
    }
   ],
   "source": [
    "vidcap = cv2.VideoCapture('../samples/URA3WT6_t3.avi')\n",
    "vidlen = int(vidcap.get(cv2.CAP_PROP_FRAME_COUNT))\n",
    "out = []\n",
    "for i in range(vidlen):\n",
    "    success,image = vidcap.read(1)\n",
    "    frameId = vidcap.get(1)\n",
    "    out.append(image)\n",
    "viddy = np.array(out)\n",
    "range(viddy.shape[0]-1)"
   ]
  },
  {
   "cell_type": "code",
   "execution_count": 5,
   "metadata": {},
   "outputs": [
    {
     "data": {
      "text/plain": [
       "512"
      ]
     },
     "execution_count": 5,
     "metadata": {},
     "output_type": "execute_result"
    }
   ],
   "source": [
    "viddy.shape[2]"
   ]
  },
  {
   "cell_type": "code",
   "execution_count": 6,
   "metadata": {},
   "outputs": [],
   "source": [
    "# adjust fst and fen\n",
    "fst = 40\n",
    "fen = 49\n",
    "trmviddy = viddy[fst:fen]\n",
    "newlen = trmviddy.shape[0]\n",
    "wi = trmviddy.shape[1]\n",
    "he = trmviddy.shape[2]"
   ]
  },
  {
   "cell_type": "code",
   "execution_count": 7,
   "metadata": {},
   "outputs": [],
   "source": [
    "vidmax = np.amax(trmviddy, axis=0)\n",
    "# plt.imshow(vidmax)\n",
    "# plt.show()\n",
    "imagey = vidmax"
   ]
  },
  {
   "cell_type": "code",
   "execution_count": 8,
   "metadata": {},
   "outputs": [],
   "source": [
    "# Press 'q' key to end movie\n",
    "counter = 0\n",
    "successful = True\n",
    "while successful:\n",
    "    for i in range(newlen):\n",
    "        frame = trmviddy[i]\n",
    "        counter = counter+1\n",
    "\n",
    "        #If the last frame is reached, reset the capture and the frame_counter\n",
    "        if counter == newlen:\n",
    "            counter = 0 #Or whatever as long as it is the same as next line\n",
    "            #cap.set(cv2.CAP_PROP_POS_FRAMES, 0)\n",
    "\n",
    "        capcol = cv2.cvtColor(frame, cv2.COLOR_BGR2RGB)\n",
    "        numpy_horizontal = np.hstack((capcol, imagey))    \n",
    "        imS = cv2.resize(numpy_horizontal, (wi*2, he))\n",
    "        \n",
    "        cv2.imshow('Drift checker', imS)        \n",
    "\n",
    "        if cv2.waitKey(delay) & 0xFF == ord('q'):\n",
    "            successful = False\n",
    "            break\n",
    "\n",
    "cap.release()\n",
    "cv2.destroyAllWindows()"
   ]
  }
 ],
 "metadata": {
  "kernelspec": {
   "display_name": "Python 3",
   "language": "python",
   "name": "python3"
  },
  "language_info": {
   "codemirror_mode": {
    "name": "ipython",
    "version": 3
   },
   "file_extension": ".py",
   "mimetype": "text/x-python",
   "name": "python",
   "nbconvert_exporter": "python",
   "pygments_lexer": "ipython3",
   "version": "3.5.2"
  }
 },
 "nbformat": 4,
 "nbformat_minor": 2
}
